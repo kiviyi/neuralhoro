{
 "cells": [
  {
   "cell_type": "code",
   "execution_count": 1,
   "metadata": {},
   "outputs": [
    {
     "name": "stdout",
     "output_type": "stream",
     "text": [
      "True\n",
      " \n"
     ]
    }
   ],
   "source": [
    "\n",
    "from transformers import GPT2LMHeadModel, GPT2Tokenizer\n",
    "from transformers import Trainer, TrainingArguments\n",
    "import torch\n",
    "print(torch.cuda.is_available())\n",
    "if torch.cuda.is_available():\n",
    "    DEVICE = torch.device(\"cuda:0\")\n",
    "else:\n",
    "    DEVICE = torch.device(\"cpu\")\n",
    "model_name_or_path = ''\n",
    "\n",
    "model  = GPT2LMHeadModel.from_pretrained(model_name_or_path).to(DEVICE)\n",
    "tokenizer = GPT2Tokenizer.from_pretrained(\"sberbank-ai/rugpt3small_based_on_gpt2\")\n",
    "\n",
    "trainer = Trainer(model = model)\n",
    "print(\" \")"
   ]
  },
  {
   "cell_type": "code",
   "execution_count": 11,
   "metadata": {},
   "outputs": [],
   "source": [
    "from random import randint\n",
    "def gen(tok):\n",
    "    input_ids = tokenizer.encode(tok, return_tensors=\"pt\").to(DEVICE)\n",
    "    model.eval()\n",
    "    with torch.no_grad():\n",
    "        out = model.generate(input_ids, \n",
    "                            do_sample=True,\n",
    "                            num_beams=2,\n",
    "                            temperature=1.5,\n",
    "                            top_p=0.9,\n",
    "                            max_length=100,\n",
    "                            )\n",
    "\n",
    "    generated_text = list(map(tokenizer.decode, out))[0]\n",
    "    print()\n",
    "    print(generated_text[:generated_text.rfind('.')+1])"
   ]
  },
  {
   "cell_type": "code",
   "execution_count": 12,
   "metadata": {},
   "outputs": [],
   "source": [
    "zz = [['Овнам', 'Овны,'], ['Тельцам', 'Тельцы,'], \n",
    "        ['Близнецам', 'Близнецы,'], ['Ракам', 'Раки,'], \n",
    "        ['Львам', 'Раки,'], ['Девам','Девы,'], \n",
    "        ['Весам', 'Весы,'], ['Скорпионом', 'Скорпионы,'], \n",
    "        ['Стрельцам', 'Стрельцы,'], ['Козерогам', 'Козероги,'],  \n",
    "        ['Водолеям', 'Водолеи,'], ['Рыбам', 'Рыбы,']]"
   ]
  },
  {
   "cell_type": "code",
   "execution_count": 17,
   "metadata": {},
   "outputs": [
    {
     "name": "stderr",
     "output_type": "stream",
     "text": [
      "The attention mask and the pad token id were not set. As a consequence, you may observe unexpected behavior. Please pass your input's `attention_mask` to obtain reliable results.\n",
      "Setting `pad_token_id` to `eos_token_id`:50256 for open-end generation.\n",
      "The attention mask and the pad token id were not set. As a consequence, you may observe unexpected behavior. Please pass your input's `attention_mask` to obtain reliable results.\n",
      "Setting `pad_token_id` to `eos_token_id`:50256 for open-end generation.\n"
     ]
    },
    {
     "name": "stdout",
     "output_type": "stream",
     "text": [
      "\n",
      "Овнам стоит быть внимательнее к деталям: именно они сегодня могут испортить все планы и разрушить все отношения. Возможны проблемы со здоровьем, сбои в ходе реализации планов, конфликты с друзьями и близкими. К счастью, неприятности будут незначительными и не навредят вам. Звезды советуют не торопиться с выводами и принимать решения, основываясь на ощущениях. В ином случае вы не сможете исправить допущенные ошибки и испортить отношения с близкими людьми.\n"
     ]
    },
    {
     "name": "stderr",
     "output_type": "stream",
     "text": [
      "The attention mask and the pad token id were not set. As a consequence, you may observe unexpected behavior. Please pass your input's `attention_mask` to obtain reliable results.\n",
      "Setting `pad_token_id` to `eos_token_id`:50256 for open-end generation.\n"
     ]
    },
    {
     "name": "stdout",
     "output_type": "stream",
     "text": [
      "\n",
      "Тельцы, не склонные к авантюрам сегодня, могут оказаться в ловушке. Если вы нервничаете и суетитесь, то получите психологическое или физическое или моральное удовлетворение, но в любом случае будете в зоне риска. Вероятны травмы, убытки, поломки, ссоры, неудачные маневры. Не лучший момент для разговора о любви, карьере, деньгах. Стоит воздержаться от спора о недвижимости, налоге, покупке или наследстве.\n"
     ]
    },
    {
     "name": "stderr",
     "output_type": "stream",
     "text": [
      "The attention mask and the pad token id were not set. As a consequence, you may observe unexpected behavior. Please pass your input's `attention_mask` to obtain reliable results.\n",
      "Setting `pad_token_id` to `eos_token_id`:50256 for open-end generation.\n"
     ]
    },
    {
     "name": "stdout",
     "output_type": "stream",
     "text": [
      "\n",
      "Близнецам сегодня не стоит бояться домашних или других сложностей: неожиданные перемены встряхнут вашу семью, заставят сменить курс игры или тактику. Возможны непредвиденные финансовые траты. Стоит осторожнее менять планы и маршруты, если изменились цели и стиль действий. В этом случае, вам придется подстроиться под тех людей, которые будут вести себя нестандартно. Важно сохранять самообладание, контролировать вспышки злости и раздражения, не поддаваться на провокации.\n",
      "Сегодня Близнецы будут нарасхват.\n"
     ]
    },
    {
     "name": "stderr",
     "output_type": "stream",
     "text": [
      "The attention mask and the pad token id were not set. As a consequence, you may observe unexpected behavior. Please pass your input's `attention_mask` to obtain reliable results.\n",
      "Setting `pad_token_id` to `eos_token_id`:50256 for open-end generation.\n"
     ]
    },
    {
     "name": "stdout",
     "output_type": "stream",
     "text": [
      "\n",
      "Раки, не склонные к легкомыслию, могут посвятить этот день свободному общению или свободному информационному поиску. Если вас переполняют эмоции, лучше воздержаться от бурной инициативы и не начинать ссору.\n",
      "Сегодня Весам не стоит рассчитывать на подвижки в делах, в том числе, положительные. По возможности, лучше не делать резких движений и не приступать к сложным вопросам.\n"
     ]
    },
    {
     "name": "stderr",
     "output_type": "stream",
     "text": [
      "The attention mask and the pad token id were not set. As a consequence, you may observe unexpected behavior. Please pass your input's `attention_mask` to obtain reliable results.\n",
      "Setting `pad_token_id` to `eos_token_id`:50256 for open-end generation.\n"
     ]
    },
    {
     "name": "stdout",
     "output_type": "stream",
     "text": [
      "\n",
      "Раки, не склонные к чрезмерной эмоциональности, могут не ограничивать себя в удовольствии наблюдать за ходом событий со стороны. Не время для попыток уладить важный вопрос или поиска компаньона. День подходит для флирта, любовной интриги, демонстрации своей сексуальной привлекательности. Если вы пребываете в неустойчивом настроении, звезды советуют не увлекаться и не строить планов.\n"
     ]
    },
    {
     "name": "stderr",
     "output_type": "stream",
     "text": [
      "The attention mask and the pad token id were not set. As a consequence, you may observe unexpected behavior. Please pass your input's `attention_mask` to obtain reliable results.\n",
      "Setting `pad_token_id` to `eos_token_id`:50256 for open-end generation.\n"
     ]
    },
    {
     "name": "stdout",
     "output_type": "stream",
     "text": [
      "\n",
      "Девам сегодня важно не зацикливаться на негативных сторонах событий. Они могут стать для вас уроком или поводом для корректировки планов. Также сегодня вам может захотеться махнуть рукой на все дела и отдохнуть, поэтому лучше отложить на другой день важные задачи. Не стоит торопиться с решениями, предложениями и действиями – вы можете совершить много ошибок. Полезно навести порядок в доме – это поможет разложить по полочкам и ваши мысли.\n"
     ]
    },
    {
     "name": "stderr",
     "output_type": "stream",
     "text": [
      "The attention mask and the pad token id were not set. As a consequence, you may observe unexpected behavior. Please pass your input's `attention_mask` to obtain reliable results.\n",
      "Setting `pad_token_id` to `eos_token_id`:50256 for open-end generation.\n"
     ]
    },
    {
     "name": "stdout",
     "output_type": "stream",
     "text": [
      "\n",
      "Весам звезды советуют воздержаться от начинаний, но и от рискованных начинаний не стоит приманивать в жизнь перемены. Нежелательны покупки и сделки. В атмосфере этих суток не стоит обольщаться гармонией, так как любая гармония вскоре может стать вредной для вашего здоровья и настроения. Лучше провести этот день в уединении и спокойствии.\n",
      "Для Весов день не самый продуктивный, зато он даст много пробных пробных моментов.\n"
     ]
    },
    {
     "name": "stderr",
     "output_type": "stream",
     "text": [
      "The attention mask and the pad token id were not set. As a consequence, you may observe unexpected behavior. Please pass your input's `attention_mask` to obtain reliable results.\n",
      "Setting `pad_token_id` to `eos_token_id`:50256 for open-end generation.\n"
     ]
    },
    {
     "name": "stdout",
     "output_type": "stream",
     "text": [
      "\n",
      "Скорпионы, как и их визави, не преминут воспользоваться неожиданной возможностью. Звезды настоятельно советуют вам сохранять бодрость духа и избегать излишних нагрузок: сегодня высок риск травм и напряженных ситуаций. В любой схватке важно вовремя остановиться, так как ответный выпад может обернуться серьезной схваткой. В критический момент не помешает сменить тактику, уйти в тень, уйти в тень, спрятать лицо. Нежелательны покупки и сделки.\n"
     ]
    },
    {
     "name": "stderr",
     "output_type": "stream",
     "text": [
      "The attention mask and the pad token id were not set. As a consequence, you may observe unexpected behavior. Please pass your input's `attention_mask` to obtain reliable results.\n",
      "Setting `pad_token_id` to `eos_token_id`:50256 for open-end generation.\n"
     ]
    },
    {
     "name": "stdout",
     "output_type": "stream",
     "text": [
      "\n",
      "Стрельцы, активно вмешивающиеся в вашу жизнь, могут стать причиной серьезных проблем. Поэтому будьте осторожны в общении с близкими и любимыми – возможно, они хотят воспользоваться вашей добротой. Также звезды советуют быть осторожнее с финансами – сейчас вы склонны бездумно тратить деньги. Вредно покупать что-либо – новая вещь прослужит недолго.\n",
      "Сегодня вы можете столкнуться с препятствием, которое притянет к вам удачу. Смело идите вперед и смело говорите то, что думаете.\n"
     ]
    },
    {
     "name": "stderr",
     "output_type": "stream",
     "text": [
      "The attention mask and the pad token id were not set. As a consequence, you may observe unexpected behavior. Please pass your input's `attention_mask` to obtain reliable results.\n",
      "Setting `pad_token_id` to `eos_token_id`:50256 for open-end generation.\n"
     ]
    },
    {
     "name": "stdout",
     "output_type": "stream",
     "text": [
      "\n",
      "Козероги, несмотря на свои природную нестабильность и свое природное чутье, склонны недооценивать опасность. Возможна большая уязвимость, особенно, если дело касается карьеры, дома, близких, денежных вкладов. Не лучший момент для инвестиций, инвестиций в будущее. Имеет смысл отложить платежи, покупки.\n",
      "Сегодня многие Козероги недооценивают роковые повороты событий и надеются, что судьбы сведут их с помощью креатива.\n"
     ]
    },
    {
     "name": "stderr",
     "output_type": "stream",
     "text": [
      "The attention mask and the pad token id were not set. As a consequence, you may observe unexpected behavior. Please pass your input's `attention_mask` to obtain reliable results.\n",
      "Setting `pad_token_id` to `eos_token_id`:50256 for open-end generation.\n"
     ]
    },
    {
     "name": "stdout",
     "output_type": "stream",
     "text": [
      "\n",
      "Водолеям сегодня стоит быть начеку, так как их ближайшие соседи или представители другой влиятельной силы внезапно активизируются. Если вы оказались в центре конфликта, будет легко найти виновного. В ином случае на ваши плечи ляжет ответственность за действия и слова других людей, включая партнера, начальника, родню, близких родственников. Вероятна и прямая ответственность за действия оппонента.\n",
      "\n",
      "Рыбам этот день помогает переключиться с рутины на творчество. В эти сутки можно найти оригинальное применение своему таланту, креативным способностям. Может найти применение незавершенное дело. Рыбам-идеалистам поможет эффект от погружения в мир музыки, кино, компьютерных игр, компьютерных игр. В этот день можно не только найти единомышленников, но и получить эстетическое удовольствие от увиденного.\n"
     ]
    }
   ],
   "source": [
    "for znak in zz:\n",
    "    gen(znak[randint(0,len(znak))])"
   ]
  },
  {
   "cell_type": "code",
   "execution_count": 5,
   "metadata": {},
   "outputs": [
    {
     "name": "stderr",
     "output_type": "stream",
     "text": [
      "The attention mask and the pad token id were not set. As a consequence, you may observe unexpected behavior. Please pass your input's `attention_mask` to obtain reliable results.\n",
      "Setting `pad_token_id` to `eos_token_id`:50256 for open-end generation.\n"
     ]
    },
    {
     "name": "stdout",
     "output_type": "stream",
     "text": [
      "\n",
      "Рыбам звезды советуют воздержаться от начинаний и новых начинаний, пока не сформированы предпосылки для успеха. Если вы не готовы к рывку или у вас нет нужных ресурсов, можно пустить в ход таланты и умения, даруемые вам обстоятельствами. К ночи ваше настроение может испортиться, станет менее стабильным, вероятен упадок сил. Не стоит откладывать на завтра важное дело, требующий ловкости и расторопности, а также неотложные дела, требующие от вас физической и душевной ловкости. В конце дня стоит воздержаться от начинаний на постоянной основе.\n",
      "Козерогам лучше избегать начинаний, связанных с бурным потоком событий и рискованных экспериментов. В эти сутки легко нарушается привычный ход событий, могут быть разрушены привычные опоры, сведены в хаос старые договоренности. Многие Козероги окажутся в ловушке из-за иллюзий, ложных надежд и чужих слабостей. Не стоит поддаваться на провокации и злоупотреблять лестью.\n"
     ]
    }
   ],
   "source": [
    "\n",
    "\n",
    "# Пример вероятностного сэмплирвоания с ограничением\n",
    "text = \"Рыбам\"\n",
    "input_ids = tokenizer.encode(text, return_tensors=\"pt\").to(DEVICE)\n",
    "model.eval()\n",
    "with torch.no_grad():\n",
    "    out = model.generate(input_ids, \n",
    "                        do_sample=True,\n",
    "                        num_beams=2,\n",
    "                        temperature=1.5,\n",
    "                        top_p=0.9,\n",
    "                        max_length=200,\n",
    "                        )\n",
    "\n",
    "generated_text = list(map(tokenizer.decode, out))[0]\n",
    "print()\n",
    "print(generated_text[:generated_text.rfind('.')+1])"
   ]
  },
  {
   "cell_type": "code",
   "execution_count": null,
   "metadata": {},
   "outputs": [],
   "source": []
  }
 ],
 "metadata": {
  "kernelspec": {
   "display_name": "Python 3 (ipykernel)",
   "language": "python",
   "name": "python3"
  },
  "language_info": {
   "codemirror_mode": {
    "name": "ipython",
    "version": 3
   },
   "file_extension": ".py",
   "mimetype": "text/x-python",
   "name": "python",
   "nbconvert_exporter": "python",
   "pygments_lexer": "ipython3",
   "version": "3.9.12"
  },
  "orig_nbformat": 4,
  "vscode": {
   "interpreter": {
    "hash": "94c3c2e2049686ae4e58f4b0da452bd51e74b10ddaebbbef9f41e92e4703dab9"
   }
  }
 },
 "nbformat": 4,
 "nbformat_minor": 2
}
