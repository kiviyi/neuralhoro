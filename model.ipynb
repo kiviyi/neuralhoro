{
 "cells": [
  {
   "cell_type": "code",
   "execution_count": 1,
   "metadata": {},
   "outputs": [],
   "source": [
    "#!pip install transformers\n",
    "from transformers import GPT2LMHeadModel, GPT2Tokenizer\n",
    "import torch\n",
    "DEVICE = torch.device(\"cuda:0\")\n",
    "\n",
    "# Для большей наглядности будем работать с русскоязычной версией GPT от Сбера.\n",
    "# Ниже находятся команды для загрузки и инициализации модели и токенизатора.\n",
    "torch.cuda.empty_cache()"
   ]
  },
  {
   "cell_type": "code",
   "execution_count": 2,
   "metadata": {},
   "outputs": [],
   "source": [
    "model_name_or_path = \"sberbank-ai/rugpt3small_based_on_gpt2\"\n",
    "\n",
    "model = GPT2LMHeadModel.from_pretrained(model_name_or_path).to(DEVICE)"
   ]
  },
  {
   "cell_type": "code",
   "execution_count": 3,
   "metadata": {},
   "outputs": [],
   "source": [
    "tokenizer = GPT2Tokenizer.from_pretrained(model_name_or_path)\n"
   ]
  },
  {
   "cell_type": "code",
   "execution_count": 4,
   "metadata": {},
   "outputs": [
    {
     "name": "stdout",
     "output_type": "stream",
     "text": [
      "33169854\n"
     ]
    },
    {
     "name": "stderr",
     "output_type": "stream",
     "text": [
      "C:\\Users\\asus rog\\anaconda3\\lib\\site-packages\\transformers\\data\\datasets\\language_modeling.py:54: FutureWarning: This dataset will be removed from the library soon, preprocessing should be handled with the 🤗 Datasets library. You can have a look at this example script for pointers: https://github.com/huggingface/transformers/blob/main/examples/pytorch/language-modeling/run_mlm.py\n",
      "  warnings.warn(\n"
     ]
    }
   ],
   "source": [
    "from transformers import TextDataset, DataCollatorForLanguageModeling\n",
    "\n",
    "text = open(r'C:\\Users\\asus rog\\Documents\\parsinghoroscop\\rnn\\data.txt', encoding='utf-8').read()\n",
    "# Сохраним обучающие данные в .txt файл \n",
    "train_path = r\"C:\\Users\\asus rog\\Documents\\parsinghoroscop\\rnn\\data.txt\"\n",
    "# with open(train_path, \"w\") as f:\n",
    "#     f.write(text)\n",
    "\n",
    "# Создание датасета\n",
    "train_dataset = TextDataset(tokenizer=tokenizer,file_path=train_path,block_size=64)\n",
    "print(len(text))\n",
    "# Создание даталодера (нарезает текст на оптимальные по длине куски)\n",
    "data_collator = DataCollatorForLanguageModeling(tokenizer=tokenizer, mlm=False)"
   ]
  },
  {
   "cell_type": "code",
   "execution_count": 5,
   "metadata": {},
   "outputs": [],
   "source": [
    "from transformers import Trainer, TrainingArguments\n",
    "\n",
    "training_args = TrainingArguments(\n",
    "    output_dir=\"./finetuned\", #The output directory\n",
    "    overwrite_output_dir=True, #overwrite the content of the output directory\n",
    "    num_train_epochs=200, # number of training epochs\n",
    "    per_device_train_batch_size=16, # batch size for training\n",
    "    per_device_eval_batch_size=16,  # batch size for evaluation\n",
    "    warmup_steps=10,# number of warmup steps for learning rate scheduler\n",
    "    gradient_accumulation_steps=16, # to make \"virtual\" batch size larger\n",
    "    )\n",
    "\n",
    "\n",
    "trainer = Trainer(\n",
    "    model=model,\n",
    "    args=training_args,\n",
    "    data_collator=data_collator,\n",
    "    train_dataset=train_dataset,\n",
    "    optimizers = (torch.optim.AdamW(model.parameters(),lr=1e-5),None) # Optimizer and lr scheduler\n",
    ")"
   ]
  },
  {
   "cell_type": "code",
   "execution_count": 6,
   "metadata": {},
   "outputs": [
    {
     "name": "stderr",
     "output_type": "stream",
     "text": [
      "***** Running training *****\n",
      "  Num examples = 10083\n",
      "  Num Epochs = 200\n",
      "  Instantaneous batch size per device = 16\n",
      "  Total train batch size (w. parallel, distributed & accumulation) = 256\n",
      "  Gradient Accumulation steps = 16\n",
      "  Total optimization steps = 7800\n"
     ]
    },
    {
     "data": {
      "text/html": [
       "\n",
       "    <div>\n",
       "      \n",
       "      <progress value='7800' max='7800' style='width:300px; height:20px; vertical-align: middle;'></progress>\n",
       "      [7800/7800 6:02:50, Epoch 199/200]\n",
       "    </div>\n",
       "    <table border=\"1\" class=\"dataframe\">\n",
       "  <thead>\n",
       " <tr style=\"text-align: left;\">\n",
       "      <th>Step</th>\n",
       "      <th>Training Loss</th>\n",
       "    </tr>\n",
       "  </thead>\n",
       "  <tbody>\n",
       "    <tr>\n",
       "      <td>500</td>\n",
       "      <td>2.989000</td>\n",
       "    </tr>\n",
       "    <tr>\n",
       "      <td>1000</td>\n",
       "      <td>2.628200</td>\n",
       "    </tr>\n",
       "    <tr>\n",
       "      <td>1500</td>\n",
       "      <td>2.433200</td>\n",
       "    </tr>\n",
       "    <tr>\n",
       "      <td>2000</td>\n",
       "      <td>2.281000</td>\n",
       "    </tr>\n",
       "    <tr>\n",
       "      <td>2500</td>\n",
       "      <td>2.154900</td>\n",
       "    </tr>\n",
       "    <tr>\n",
       "      <td>3000</td>\n",
       "      <td>2.046000</td>\n",
       "    </tr>\n",
       "    <tr>\n",
       "      <td>3500</td>\n",
       "      <td>1.957000</td>\n",
       "    </tr>\n",
       "    <tr>\n",
       "      <td>4000</td>\n",
       "      <td>1.881400</td>\n",
       "    </tr>\n",
       "    <tr>\n",
       "      <td>4500</td>\n",
       "      <td>1.816700</td>\n",
       "    </tr>\n",
       "    <tr>\n",
       "      <td>5000</td>\n",
       "      <td>1.762900</td>\n",
       "    </tr>\n",
       "    <tr>\n",
       "      <td>5500</td>\n",
       "      <td>1.719300</td>\n",
       "    </tr>\n",
       "    <tr>\n",
       "      <td>6000</td>\n",
       "      <td>1.682100</td>\n",
       "    </tr>\n",
       "    <tr>\n",
       "      <td>6500</td>\n",
       "      <td>1.656100</td>\n",
       "    </tr>\n",
       "    <tr>\n",
       "      <td>7000</td>\n",
       "      <td>1.636100</td>\n",
       "    </tr>\n",
       "    <tr>\n",
       "      <td>7500</td>\n",
       "      <td>1.623700</td>\n",
       "    </tr>\n",
       "  </tbody>\n",
       "</table><p>"
      ],
      "text/plain": [
       "<IPython.core.display.HTML object>"
      ]
     },
     "metadata": {},
     "output_type": "display_data"
    },
    {
     "name": "stderr",
     "output_type": "stream",
     "text": [
      "Saving model checkpoint to ./finetuned\\checkpoint-500\n",
      "Configuration saved in ./finetuned\\checkpoint-500\\config.json\n",
      "Model weights saved in ./finetuned\\checkpoint-500\\pytorch_model.bin\n",
      "Saving model checkpoint to ./finetuned\\checkpoint-1000\n",
      "Configuration saved in ./finetuned\\checkpoint-1000\\config.json\n",
      "Model weights saved in ./finetuned\\checkpoint-1000\\pytorch_model.bin\n",
      "Saving model checkpoint to ./finetuned\\checkpoint-1500\n",
      "Configuration saved in ./finetuned\\checkpoint-1500\\config.json\n",
      "Model weights saved in ./finetuned\\checkpoint-1500\\pytorch_model.bin\n",
      "Saving model checkpoint to ./finetuned\\checkpoint-2000\n",
      "Configuration saved in ./finetuned\\checkpoint-2000\\config.json\n",
      "Model weights saved in ./finetuned\\checkpoint-2000\\pytorch_model.bin\n",
      "Saving model checkpoint to ./finetuned\\checkpoint-2500\n",
      "Configuration saved in ./finetuned\\checkpoint-2500\\config.json\n",
      "Model weights saved in ./finetuned\\checkpoint-2500\\pytorch_model.bin\n",
      "Saving model checkpoint to ./finetuned\\checkpoint-3000\n",
      "Configuration saved in ./finetuned\\checkpoint-3000\\config.json\n",
      "Model weights saved in ./finetuned\\checkpoint-3000\\pytorch_model.bin\n",
      "Saving model checkpoint to ./finetuned\\checkpoint-3500\n",
      "Configuration saved in ./finetuned\\checkpoint-3500\\config.json\n",
      "Model weights saved in ./finetuned\\checkpoint-3500\\pytorch_model.bin\n",
      "Saving model checkpoint to ./finetuned\\checkpoint-4000\n",
      "Configuration saved in ./finetuned\\checkpoint-4000\\config.json\n",
      "Model weights saved in ./finetuned\\checkpoint-4000\\pytorch_model.bin\n",
      "Saving model checkpoint to ./finetuned\\checkpoint-4500\n",
      "Configuration saved in ./finetuned\\checkpoint-4500\\config.json\n",
      "Model weights saved in ./finetuned\\checkpoint-4500\\pytorch_model.bin\n",
      "Saving model checkpoint to ./finetuned\\checkpoint-5000\n",
      "Configuration saved in ./finetuned\\checkpoint-5000\\config.json\n",
      "Model weights saved in ./finetuned\\checkpoint-5000\\pytorch_model.bin\n",
      "Saving model checkpoint to ./finetuned\\checkpoint-5500\n",
      "Configuration saved in ./finetuned\\checkpoint-5500\\config.json\n",
      "Model weights saved in ./finetuned\\checkpoint-5500\\pytorch_model.bin\n",
      "Saving model checkpoint to ./finetuned\\checkpoint-6000\n",
      "Configuration saved in ./finetuned\\checkpoint-6000\\config.json\n",
      "Model weights saved in ./finetuned\\checkpoint-6000\\pytorch_model.bin\n",
      "Saving model checkpoint to ./finetuned\\checkpoint-6500\n",
      "Configuration saved in ./finetuned\\checkpoint-6500\\config.json\n",
      "Model weights saved in ./finetuned\\checkpoint-6500\\pytorch_model.bin\n",
      "Saving model checkpoint to ./finetuned\\checkpoint-7000\n",
      "Configuration saved in ./finetuned\\checkpoint-7000\\config.json\n",
      "Model weights saved in ./finetuned\\checkpoint-7000\\pytorch_model.bin\n",
      "Saving model checkpoint to ./finetuned\\checkpoint-7500\n",
      "Configuration saved in ./finetuned\\checkpoint-7500\\config.json\n",
      "Model weights saved in ./finetuned\\checkpoint-7500\\pytorch_model.bin\n",
      "\n",
      "\n",
      "Training completed. Do not forget to share your model on huggingface.co/models =)\n",
      "\n",
      "\n"
     ]
    },
    {
     "data": {
      "text/plain": [
       "TrainOutput(global_step=7800, training_loss=2.002399127666767, metrics={'train_runtime': 21775.6177, 'train_samples_per_second': 92.608, 'train_steps_per_second': 0.358, 'total_flos': 6.5861955477504e+16, 'train_loss': 2.002399127666767, 'epoch': 199.99})"
      ]
     },
     "execution_count": 6,
     "metadata": {},
     "output_type": "execute_result"
    }
   ],
   "source": [
    "trainer.train()"
   ]
  },
  {
   "cell_type": "code",
   "execution_count": 7,
   "metadata": {},
   "outputs": [
    {
     "name": "stderr",
     "output_type": "stream",
     "text": [
      "Saving model checkpoint to C:\\Users\\asus rog\\Documents\\parsinghoroscop\\rnn\\model\n",
      "Configuration saved in C:\\Users\\asus rog\\Documents\\parsinghoroscop\\rnn\\model\\config.json\n"
     ]
    },
    {
     "name": "stdout",
     "output_type": "stream",
     "text": [
      "33169854\n"
     ]
    },
    {
     "name": "stderr",
     "output_type": "stream",
     "text": [
      "Model weights saved in C:\\Users\\asus rog\\Documents\\parsinghoroscop\\rnn\\model\\pytorch_model.bin\n"
     ]
    }
   ],
   "source": [
    "print(len(text))\n",
    "trainer.save_model(r'C:\\Users\\asus rog\\Documents\\parsinghoroscop\\rnn\\model')\n"
   ]
  },
  {
   "cell_type": "code",
   "execution_count": 8,
   "metadata": {},
   "outputs": [
    {
     "name": "stderr",
     "output_type": "stream",
     "text": [
      "loading configuration file C:\\Users\\asus rog\\Documents\\parsinghoroscop\\rnn\\model\\config.json\n",
      "Model config GPT2Config {\n",
      "  \"_name_or_path\": \"sberbank-ai/rugpt3small_based_on_gpt2\",\n",
      "  \"activation_function\": \"gelu_new\",\n",
      "  \"architectures\": [\n",
      "    \"GPT2LMHeadModel\"\n",
      "  ],\n",
      "  \"attn_pdrop\": 0.1,\n",
      "  \"bos_token_id\": 50256,\n",
      "  \"embd_pdrop\": 0.1,\n",
      "  \"eos_token_id\": 50256,\n",
      "  \"gradient_checkpointing\": false,\n",
      "  \"initializer_range\": 0.02,\n",
      "  \"layer_norm_epsilon\": 1e-05,\n",
      "  \"model_type\": \"gpt2\",\n",
      "  \"n_ctx\": 2048,\n",
      "  \"n_embd\": 768,\n",
      "  \"n_head\": 12,\n",
      "  \"n_inner\": null,\n",
      "  \"n_layer\": 12,\n",
      "  \"n_positions\": 2048,\n",
      "  \"reorder_and_upcast_attn\": false,\n",
      "  \"resid_pdrop\": 0.1,\n",
      "  \"scale_attn_by_inverse_layer_idx\": false,\n",
      "  \"scale_attn_weights\": true,\n",
      "  \"summary_activation\": null,\n",
      "  \"summary_first_dropout\": 0.1,\n",
      "  \"summary_proj_to_labels\": true,\n",
      "  \"summary_type\": \"cls_index\",\n",
      "  \"summary_use_proj\": true,\n",
      "  \"torch_dtype\": \"float32\",\n",
      "  \"transformers_version\": \"4.23.1\",\n",
      "  \"use_cache\": true,\n",
      "  \"vocab_size\": 50264\n",
      "}\n",
      "\n",
      "loading weights file C:\\Users\\asus rog\\Documents\\parsinghoroscop\\rnn\\model\\pytorch_model.bin\n",
      "All model checkpoint weights were used when initializing GPT2LMHeadModel.\n",
      "\n",
      "All the weights of GPT2LMHeadModel were initialized from the model checkpoint at C:\\Users\\asus rog\\Documents\\parsinghoroscop\\rnn\\model.\n",
      "If your task is similar to the task the model of the checkpoint was trained on, you can already use GPT2LMHeadModel for predictions without further training.\n",
      "loading file vocab.json from cache at C:\\Users\\asus rog/.cache\\huggingface\\hub\\models--sberbank-ai--rugpt3small_based_on_gpt2\\snapshots\\f2f7c585b05a16726efe8974586e10b4d5939082\\vocab.json\n",
      "loading file merges.txt from cache at C:\\Users\\asus rog/.cache\\huggingface\\hub\\models--sberbank-ai--rugpt3small_based_on_gpt2\\snapshots\\f2f7c585b05a16726efe8974586e10b4d5939082\\merges.txt\n",
      "loading file added_tokens.json from cache at None\n",
      "loading file special_tokens_map.json from cache at None\n",
      "loading file tokenizer_config.json from cache at None\n",
      "loading configuration file config.json from cache at C:\\Users\\asus rog/.cache\\huggingface\\hub\\models--sberbank-ai--rugpt3small_based_on_gpt2\\snapshots\\f2f7c585b05a16726efe8974586e10b4d5939082\\config.json\n",
      "Model config GPT2Config {\n",
      "  \"_name_or_path\": \"sberbank-ai/rugpt3small_based_on_gpt2\",\n",
      "  \"activation_function\": \"gelu_new\",\n",
      "  \"architectures\": [\n",
      "    \"GPT2LMHeadModel\"\n",
      "  ],\n",
      "  \"attn_pdrop\": 0.1,\n",
      "  \"bos_token_id\": 50256,\n",
      "  \"embd_pdrop\": 0.1,\n",
      "  \"eos_token_id\": 50256,\n",
      "  \"gradient_checkpointing\": false,\n",
      "  \"initializer_range\": 0.02,\n",
      "  \"layer_norm_epsilon\": 1e-05,\n",
      "  \"model_type\": \"gpt2\",\n",
      "  \"n_ctx\": 2048,\n",
      "  \"n_embd\": 768,\n",
      "  \"n_head\": 12,\n",
      "  \"n_inner\": null,\n",
      "  \"n_layer\": 12,\n",
      "  \"n_positions\": 2048,\n",
      "  \"reorder_and_upcast_attn\": false,\n",
      "  \"resid_pdrop\": 0.1,\n",
      "  \"scale_attn_by_inverse_layer_idx\": false,\n",
      "  \"scale_attn_weights\": true,\n",
      "  \"summary_activation\": null,\n",
      "  \"summary_first_dropout\": 0.1,\n",
      "  \"summary_proj_to_labels\": true,\n",
      "  \"summary_type\": \"cls_index\",\n",
      "  \"summary_use_proj\": true,\n",
      "  \"transformers_version\": \"4.23.1\",\n",
      "  \"use_cache\": true,\n",
      "  \"vocab_size\": 50264\n",
      "}\n",
      "\n",
      "No `TrainingArguments` passed, using `output_dir=tmp_trainer`.\n",
      "PyTorch: setting up devices\n",
      "The default value for the training argument `--report_to` will change in v5 (from all installed integrations to none). In v5, you will need to use `--report_to all` to get the same behavior as now. You should start updating your code and make this info disappear :-).\n"
     ]
    }
   ],
   "source": [
    "\n",
    "from transformers import GPT2LMHeadModel, GPT2Tokenizer\n",
    "from transformers import Trainer, TrainingArguments\n",
    "import torch\n",
    "DEVICE = torch.device(\"cuda:0\")\n",
    "model_name_or_path = r'C:\\Users\\asus rog\\Documents\\parsinghoroscop\\rnn\\model'\n",
    "\n",
    "model  = GPT2LMHeadModel.from_pretrained(model_name_or_path).to(DEVICE)\n",
    "tokenizer = GPT2Tokenizer.from_pretrained(\"sberbank-ai/rugpt3small_based_on_gpt2\")\n",
    "\n",
    "trainer = Trainer(model = model)\n"
   ]
  },
  {
   "cell_type": "code",
   "execution_count": 10,
   "metadata": {},
   "outputs": [
    {
     "name": "stderr",
     "output_type": "stream",
     "text": [
      "The attention mask and the pad token id were not set. As a consequence, you may observe unexpected behavior. Please pass your input's `attention_mask` to obtain reliable results.\n",
      "Setting `pad_token_id` to `eos_token_id`:50256 for open-end generation.\n"
     ]
    },
    {
     "name": "stdout",
     "output_type": "stream",
     "text": [
      "\n",
      "Стрельцы,  у которых есть цели и амбиции, могут добиться успеха в чем-то быстро и легко. Главное – не бояться рисковать и соглашаться на авантюры. В отношениях сейчас царит мир, радость, любовь и взаимопонимание. Постарайтесь в этот день не спорить и не ссориться – это лишь испортит ваши отношения.\n",
      "Несмотря на то, что сегодня вы настроены позитивно, день не сулит вам серьезных проблем, поэтому сконцентрируйтесь на рабочих делах. Также звезды советуют в этот день делегировать сложные задачи коллегам – так у вас получится быстрее закончить все дела. Не бойтесь делегировать сложные задачи близким – они точно справятся с ними. Также сегодня не стоит ввязываться в конфликты и спорить – вы не выиграете ни в одной игре. Полезно работать в поте лица – звезды говорят, что вы сможете добиться успеха во всем. Также полезно помогать нуждающимся – это поднимет вам настроение. А вот на личном фронте все не так радужно – возможно, некоторые отношения\n"
     ]
    }
   ],
   "source": [
    "\n",
    "\n",
    "# Пример вероятностного сэмплирвоания с ограничением\n",
    "text = \"Стрельцы, \"\n",
    "input_ids = tokenizer.encode(text, return_tensors=\"pt\").to(DEVICE)\n",
    "model.eval()\n",
    "with torch.no_grad():\n",
    "    out = model.generate(input_ids, \n",
    "                        do_sample=True,\n",
    "                        num_beams=2,\n",
    "                        temperature=1.5,\n",
    "                        top_p=0.9,\n",
    "                        max_length=200,\n",
    "                        )\n",
    "\n",
    "generated_text = list(map(tokenizer.decode, out))[0]\n",
    "print()\n",
    "print(generated_text)"
   ]
  },
  {
   "cell_type": "code",
   "execution_count": null,
   "metadata": {},
   "outputs": [],
   "source": []
  }
 ],
 "metadata": {
  "kernelspec": {
   "display_name": "Python 3 (ipykernel)",
   "language": "python",
   "name": "python3"
  },
  "language_info": {
   "codemirror_mode": {
    "name": "ipython",
    "version": 3
   },
   "file_extension": ".py",
   "mimetype": "text/x-python",
   "name": "python",
   "nbconvert_exporter": "python",
   "pygments_lexer": "ipython3",
   "version": "3.9.12"
  },
  "orig_nbformat": 4,
  "vscode": {
   "interpreter": {
    "hash": "c347c8f9a7ef94e4c9e03b4513be7835ed18f45b99a2a817fb579f408b867b16"
   }
  }
 },
 "nbformat": 4,
 "nbformat_minor": 2
}
